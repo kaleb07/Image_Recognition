{
  "nbformat": 4,
  "nbformat_minor": 0,
  "metadata": {
    "colab": {
      "name": "Copy of RSP.ipynb",
      "provenance": [],
      "collapsed_sections": []
    },
    "kernelspec": {
      "name": "python3",
      "display_name": "Python 3"
    }
  },
  "cells": [
    {
      "cell_type": "markdown",
      "metadata": {
        "id": "5xsYrx3V93VY"
      },
      "source": [
        "By: Kaleb Lonari Simanungkalit"
      ]
    },
    {
      "cell_type": "code",
      "metadata": {
        "id": "N8SWhlFZHfTT"
      },
      "source": [
        "from sklearn.model_selection import train_test_split\n",
        "import tensorflow as tf\n",
        "from tensorflow.keras.optimizers import RMSprop\n",
        "from tensorflow.keras.preprocessing.image import ImageDataGenerator\n",
        "import zipfile, os\n",
        "import shutil\n",
        "from google.colab import drive\n",
        "import numpy as np\n",
        "from google.colab import files\n",
        "from keras.preprocessing import image\n",
        "import matplotlib.pyplot as plt\n",
        "import matplotlib.image as mpimg\n",
        "%matplotlib inline"
      ],
      "execution_count": 1,
      "outputs": []
    },
    {
      "cell_type": "code",
      "metadata": {
        "id": "OXATctfXjClT",
        "outputId": "74b7a4bf-a505-45f8-b395-176ba065668b",
        "colab": {
          "base_uri": "https://localhost:8080/",
          "height": 35
        }
      },
      "source": [
        "drive.mount('/content/drive')"
      ],
      "execution_count": 2,
      "outputs": [
        {
          "output_type": "stream",
          "text": [
            "Mounted at /content/drive\n"
          ],
          "name": "stdout"
        }
      ]
    },
    {
      "cell_type": "code",
      "metadata": {
        "id": "0QVtuTVGM-S9",
        "outputId": "b720bb91-5e0b-4a10-f07e-3b0da1901ede",
        "colab": {
          "base_uri": "https://localhost:8080/",
          "height": 35
        }
      },
      "source": [
        "os.listdir(\"/content/drive/My Drive/Dicoding\")"
      ],
      "execution_count": 3,
      "outputs": [
        {
          "output_type": "execute_result",
          "data": {
            "text/plain": [
              "['rockpaperscissors.zip', 'Copy of RSP.ipynb']"
            ]
          },
          "metadata": {
            "tags": []
          },
          "execution_count": 3
        }
      ]
    },
    {
      "cell_type": "code",
      "metadata": {
        "id": "ifDbSF62jjXY"
      },
      "source": [
        "# melakukan ekstraksi pada file zip\n",
        "local_zip = '/content/drive/My Drive/Dicoding/rockpaperscissors.zip'\n",
        "zip_ref = zipfile.ZipFile(local_zip, 'r')\n",
        "zip_ref.extractall('/content/drive/My Drive/Dicoding')\n",
        "zip_ref.close()"
      ],
      "execution_count": 4,
      "outputs": []
    },
    {
      "cell_type": "code",
      "metadata": {
        "id": "6Q-Yebugk4qB",
        "outputId": "6ae357cd-74f1-4525-f0ae-d76bdd7ce201",
        "colab": {
          "base_uri": "https://localhost:8080/",
          "height": 35
        }
      },
      "source": [
        "os.listdir('/content/drive/My Drive/Dicoding/')"
      ],
      "execution_count": 5,
      "outputs": [
        {
          "output_type": "execute_result",
          "data": {
            "text/plain": [
              "['rockpaperscissors.zip', 'Copy of RSP.ipynb', 'rockpaperscissors', '__MACOSX']"
            ]
          },
          "metadata": {
            "tags": []
          },
          "execution_count": 5
        }
      ]
    },
    {
      "cell_type": "markdown",
      "metadata": {
        "id": "Nzn7C8HKktne"
      },
      "source": [
        "## **Split Data Train and Data Validation**"
      ]
    },
    {
      "cell_type": "markdown",
      "metadata": {
        "id": "GE827B2hfrrs"
      },
      "source": [
        "**Directory for Data Train**"
      ]
    },
    {
      "cell_type": "code",
      "metadata": {
        "id": "ZnMDjTBCz0tq"
      },
      "source": [
        "try:  \n",
        "    os.mkdir('/content/drive/My Drive/Dicoding/data_train', 0o755)  \n",
        "except OSError as error:  \n",
        "    print(error)   "
      ],
      "execution_count": 6,
      "outputs": []
    },
    {
      "cell_type": "code",
      "metadata": {
        "id": "JhjiZyTvfLMG"
      },
      "source": [
        "try:  \n",
        "    os.mkdir('/content/drive/My Drive/Dicoding/data_train/rock', 0o755)  \n",
        "except OSError as error:  \n",
        "    print(error)   "
      ],
      "execution_count": 7,
      "outputs": []
    },
    {
      "cell_type": "code",
      "metadata": {
        "id": "BcgS6f1ffVhl"
      },
      "source": [
        "try:  \n",
        "    os.mkdir('/content/drive/My Drive/Dicoding/data_train/paper', 0o755)  \n",
        "except OSError as error:  \n",
        "    print(error)   "
      ],
      "execution_count": 8,
      "outputs": []
    },
    {
      "cell_type": "code",
      "metadata": {
        "id": "ekmd-bX1fYoz"
      },
      "source": [
        "try:  \n",
        "    os.mkdir('/content/drive/My Drive/Dicoding/data_train/scissors', 0o755)  \n",
        "except OSError as error:  \n",
        "    print(error)   "
      ],
      "execution_count": 9,
      "outputs": []
    },
    {
      "cell_type": "markdown",
      "metadata": {
        "id": "TfkiyXJQftmF"
      },
      "source": [
        "**Directory for Data Validation**"
      ]
    },
    {
      "cell_type": "code",
      "metadata": {
        "id": "6lt6x-Yz5sjy"
      },
      "source": [
        "try:  \n",
        "    os.mkdir('/content/drive/My Drive/Dicoding/data_validation', 0o755)  \n",
        "except OSError as error:  \n",
        "    print(error)   "
      ],
      "execution_count": 10,
      "outputs": []
    },
    {
      "cell_type": "code",
      "metadata": {
        "id": "vEAXRXGGf0lH"
      },
      "source": [
        "try:  \n",
        "    os.mkdir('/content/drive/My Drive/Dicoding/data_validation/paper', 0o755)  \n",
        "except OSError as error:  \n",
        "    print(error)   "
      ],
      "execution_count": 11,
      "outputs": []
    },
    {
      "cell_type": "code",
      "metadata": {
        "id": "lBMaH3y8fcP1"
      },
      "source": [
        "try:  \n",
        "    os.mkdir('/content/drive/My Drive/Dicoding/data_validation/rock', 0o755)  \n",
        "except OSError as error:  \n",
        "    print(error)   "
      ],
      "execution_count": 12,
      "outputs": []
    },
    {
      "cell_type": "code",
      "metadata": {
        "id": "IpN_MHenf7Hy"
      },
      "source": [
        "try:  \n",
        "    os.mkdir('/content/drive/My Drive/Dicoding/data_validation/scissors', 0o755)  \n",
        "except OSError as error:  \n",
        "    print(error)   "
      ],
      "execution_count": 13,
      "outputs": []
    },
    {
      "cell_type": "markdown",
      "metadata": {
        "id": "jQvvTqKBgX1e"
      },
      "source": [
        "Split data to each directory"
      ]
    },
    {
      "cell_type": "code",
      "metadata": {
        "id": "rJFddvacNbOw"
      },
      "source": [
        "base_dir = ('/content/drive/My Drive/Dicoding/rockpaperscissors/')\n",
        "rock = os.path.join(base_dir, 'rock')\n",
        "paper = os.path.join(base_dir, 'paper')\n",
        "scissors = os.path.join(base_dir, 'scissors')"
      ],
      "execution_count": 14,
      "outputs": []
    },
    {
      "cell_type": "code",
      "metadata": {
        "id": "SsJZEIVm_aU2"
      },
      "source": [
        "rock_train, rock_val = train_test_split(os.listdir(rock), test_size = 0.4 )\n",
        "paper_train, paper_val = train_test_split(os.listdir(paper), test_size = 0.4)\n",
        "scissors_train, scissors_val = train_test_split(os.listdir(scissors), test_size = 0.4)"
      ],
      "execution_count": 15,
      "outputs": []
    },
    {
      "cell_type": "markdown",
      "metadata": {
        "id": "8lBVTYJf82vz"
      },
      "source": [
        "## **Move to Data Train**"
      ]
    },
    {
      "cell_type": "code",
      "metadata": {
        "id": "9esv2krw5ukX"
      },
      "source": [
        "#move rock_train to directory data_train\n",
        "for filename in rock_train:\n",
        "    shutil.move(rock + '/' + filename, '/content/drive/My Drive/Dicoding/data_train/rock')"
      ],
      "execution_count": 16,
      "outputs": []
    },
    {
      "cell_type": "code",
      "metadata": {
        "id": "7iRGNaCs4tFP"
      },
      "source": [
        "#move paper_train to directory data_train\n",
        "for filename in paper_train:\n",
        "    shutil.move(paper + '/' + filename, '/content/drive/My Drive/Dicoding/data_train/paper')"
      ],
      "execution_count": 17,
      "outputs": []
    },
    {
      "cell_type": "code",
      "metadata": {
        "id": "oDBbOZ2W8kv7"
      },
      "source": [
        "#move scissors_train to directory data_train\n",
        "for filename in scissors_train:\n",
        "    shutil.move(scissors + '/' + filename, '/content/drive/My Drive/Dicoding/data_train/scissors')"
      ],
      "execution_count": 18,
      "outputs": []
    },
    {
      "cell_type": "markdown",
      "metadata": {
        "id": "9CJQgVmd9D-N"
      },
      "source": [
        "## **Move to Data Validation**"
      ]
    },
    {
      "cell_type": "code",
      "metadata": {
        "id": "YOLzf4Ie8xZe"
      },
      "source": [
        "#move rock_val to directory data_train\n",
        "for filename in rock_val:\n",
        "    shutil.move(rock + '/' + filename, '/content/drive/My Drive/Dicoding/data_validation/rock')"
      ],
      "execution_count": 19,
      "outputs": []
    },
    {
      "cell_type": "code",
      "metadata": {
        "id": "1NM3Mg4--h6R"
      },
      "source": [
        "#move rock_val to directory data_train\n",
        "for filename in paper_val:\n",
        "    shutil.move(paper + '/' + filename, '/content/drive/My Drive/Dicoding/data_validation/paper')"
      ],
      "execution_count": 20,
      "outputs": []
    },
    {
      "cell_type": "code",
      "metadata": {
        "id": "B2__h1vV-iBl"
      },
      "source": [
        "#move rock_val to directory data_train\n",
        "for filename in scissors_val:\n",
        "    shutil.move(scissors + '/' + filename, '/content/drive/My Drive/Dicoding/data_validation/scissors')"
      ],
      "execution_count": 21,
      "outputs": []
    },
    {
      "cell_type": "markdown",
      "metadata": {
        "id": "HQAWej242Xe3"
      },
      "source": [
        "**Check content of Data Train Directory**"
      ]
    },
    {
      "cell_type": "code",
      "metadata": {
        "id": "Jume8c9v2hWu",
        "outputId": "3fc2eacc-7b21-44b7-cb40-b70fadd4175a",
        "colab": {
          "base_uri": "https://localhost:8080/",
          "height": 71
        }
      },
      "source": [
        "print('1. Number of Rock', len(os.listdir('/content/drive/My Drive/Dicoding/data_train/rock')))\n",
        "print('2. Number of Paper', len(os.listdir('/content/drive/My Drive/Dicoding/data_train/paper')))\n",
        "print('3. Number of Scissors', len(os.listdir('/content/drive/My Drive/Dicoding/data_train/scissors')))"
      ],
      "execution_count": 22,
      "outputs": [
        {
          "output_type": "stream",
          "text": [
            "1. Number of Rock 435\n",
            "2. Number of Paper 427\n",
            "3. Number of Scissors 450\n"
          ],
          "name": "stdout"
        }
      ]
    },
    {
      "cell_type": "markdown",
      "metadata": {
        "id": "e5WUIDam3GBu"
      },
      "source": [
        "**Check content of Data Validation Directory**"
      ]
    },
    {
      "cell_type": "code",
      "metadata": {
        "id": "fDHlRhaQ3Cfy",
        "outputId": "9abfd3f5-7bf6-4e07-b13f-ce815a1dfa69",
        "colab": {
          "base_uri": "https://localhost:8080/",
          "height": 71
        }
      },
      "source": [
        "print('1. Number of Rock', len(os.listdir('/content/drive/My Drive/Dicoding/data_validation/rock')))\n",
        "print('2. Number of Paper', len(os.listdir('/content/drive/My Drive/Dicoding/data_validation/paper')))\n",
        "print('3. Number of Scissors', len(os.listdir('/content/drive/My Drive/Dicoding/data_validation/scissors')))"
      ],
      "execution_count": 23,
      "outputs": [
        {
          "output_type": "stream",
          "text": [
            "1. Number of Rock 291\n",
            "2. Number of Paper 285\n",
            "3. Number of Scissors 300\n"
          ],
          "name": "stdout"
        }
      ]
    },
    {
      "cell_type": "markdown",
      "metadata": {
        "id": "svaTZQscUMJs"
      },
      "source": [
        "## **Image Augmentation**"
      ]
    },
    {
      "cell_type": "code",
      "metadata": {
        "id": "kTfznLqCUPn4"
      },
      "source": [
        "train_datagen = ImageDataGenerator(\n",
        "    rescale = 1./225,\n",
        "    rotation_range = 20,\n",
        "    horizontal_flip = True,\n",
        "    shear_range = 0.2,\n",
        "    fill_mode = 'nearest'\n",
        ")\n",
        "\n",
        "test_datagen = ImageDataGenerator(\n",
        "    rescale = 1./225,\n",
        "    rotation_range = 20,\n",
        "    horizontal_flip = True,\n",
        "    shear_range = 0.2,\n",
        "    fill_mode = 'nearest'\n",
        ")"
      ],
      "execution_count": 24,
      "outputs": []
    },
    {
      "cell_type": "code",
      "metadata": {
        "id": "kZ02rxMXU2dO",
        "outputId": "0ec5d323-f43e-4445-8082-972107f6da1f",
        "colab": {
          "base_uri": "https://localhost:8080/",
          "height": 53
        }
      },
      "source": [
        "train_generator = train_datagen.flow_from_directory(\n",
        "        '/content/drive/My Drive/Dicoding/data_train',  \n",
        "        target_size=(150, 150),  \n",
        "        batch_size=32,\n",
        "        class_mode='categorical')\n",
        " \n",
        "validation_generator = test_datagen.flow_from_directory(\n",
        "        '/content/drive/My Drive/Dicoding/data_validation',\n",
        "        target_size=(150, 150), \n",
        "        batch_size=32, \n",
        "        class_mode='categorical')"
      ],
      "execution_count": 25,
      "outputs": [
        {
          "output_type": "stream",
          "text": [
            "Found 1312 images belonging to 3 classes.\n",
            "Found 876 images belonging to 3 classes.\n"
          ],
          "name": "stdout"
        }
      ]
    },
    {
      "cell_type": "markdown",
      "metadata": {
        "id": "CZOcevg63nv7"
      },
      "source": [
        "## **Run Model**"
      ]
    },
    {
      "cell_type": "code",
      "metadata": {
        "id": "xwTlnfVhWhSv"
      },
      "source": [
        "model = tf.keras.models.Sequential([\n",
        "  tf.keras.layers.Conv2D(32, (3,3), activation = 'relu', input_shape= (150,150,3)),\n",
        "  tf.keras.layers.MaxPooling2D(2,2),\n",
        "  tf.keras.layers.Conv2D(64,(3,3), activation= 'relu'),\n",
        "  tf.keras.layers.MaxPooling2D(2,2),\n",
        "  tf.keras.layers.Conv2D(128,(3,3), activation= 'relu'),\n",
        "  tf.keras.layers.MaxPooling2D(2,2),\n",
        "  tf.keras.layers.Conv2D(256,(3,3), activation= 'relu'),\n",
        "  tf.keras.layers.MaxPooling2D(2,2),\n",
        "  tf.keras.layers.Flatten(),\n",
        "  tf.keras.layers.Dense(512, activation= 'relu'),\n",
        "  tf.keras.layers.Dense(3, activation= 'softmax')\n",
        "])"
      ],
      "execution_count": 26,
      "outputs": []
    },
    {
      "cell_type": "code",
      "metadata": {
        "id": "gglUrOPUoTeQ"
      },
      "source": [
        "model.compile(loss='categorical_crossentropy',\n",
        "              optimizer=tf.optimizers.Adam(),\n",
        "              metrics=['accuracy'])"
      ],
      "execution_count": 27,
      "outputs": []
    },
    {
      "cell_type": "code",
      "metadata": {
        "id": "-i-jjr7Hoske",
        "outputId": "9c6090bc-73b9-404f-8078-35416319e156",
        "colab": {
          "base_uri": "https://localhost:8080/",
          "height": 737
        }
      },
      "source": [
        "history = model.fit(\n",
        "    train_generator,\n",
        "    steps_per_epoch = 25,\n",
        "    epochs = 20,\n",
        "    validation_data = validation_generator,\n",
        "    validation_steps = 5,\n",
        "    verbose =2\n",
        ")"
      ],
      "execution_count": 28,
      "outputs": [
        {
          "output_type": "stream",
          "text": [
            "Epoch 1/20\n",
            "25/25 - 49s - loss: 1.0236 - accuracy: 0.5063 - val_loss: 0.8331 - val_accuracy: 0.5938\n",
            "Epoch 2/20\n",
            "25/25 - 49s - loss: 0.5133 - accuracy: 0.8012 - val_loss: 0.3253 - val_accuracy: 0.8813\n",
            "Epoch 3/20\n",
            "25/25 - 48s - loss: 0.2983 - accuracy: 0.8988 - val_loss: 0.2868 - val_accuracy: 0.9062\n",
            "Epoch 4/20\n",
            "25/25 - 53s - loss: 0.2248 - accuracy: 0.9237 - val_loss: 0.3480 - val_accuracy: 0.8250\n",
            "Epoch 5/20\n",
            "25/25 - 48s - loss: 0.2388 - accuracy: 0.9137 - val_loss: 0.2029 - val_accuracy: 0.9187\n",
            "Epoch 6/20\n",
            "25/25 - 47s - loss: 0.1921 - accuracy: 0.9312 - val_loss: 0.1358 - val_accuracy: 0.9563\n",
            "Epoch 7/20\n",
            "25/25 - 47s - loss: 0.1283 - accuracy: 0.9625 - val_loss: 0.1009 - val_accuracy: 0.9688\n",
            "Epoch 8/20\n",
            "25/25 - 47s - loss: 0.1725 - accuracy: 0.9375 - val_loss: 0.1512 - val_accuracy: 0.9375\n",
            "Epoch 9/20\n",
            "25/25 - 47s - loss: 0.1559 - accuracy: 0.9500 - val_loss: 0.0786 - val_accuracy: 0.9937\n",
            "Epoch 10/20\n",
            "25/25 - 47s - loss: 0.1073 - accuracy: 0.9688 - val_loss: 0.1028 - val_accuracy: 0.9563\n",
            "Epoch 11/20\n",
            "25/25 - 47s - loss: 0.1042 - accuracy: 0.9625 - val_loss: 0.1537 - val_accuracy: 0.9438\n",
            "Epoch 12/20\n",
            "25/25 - 47s - loss: 0.1265 - accuracy: 0.9600 - val_loss: 0.1156 - val_accuracy: 0.9688\n",
            "Epoch 13/20\n",
            "25/25 - 48s - loss: 0.0847 - accuracy: 0.9712 - val_loss: 0.1789 - val_accuracy: 0.9438\n",
            "Epoch 14/20\n",
            "25/25 - 47s - loss: 0.1134 - accuracy: 0.9600 - val_loss: 0.1286 - val_accuracy: 0.9625\n",
            "Epoch 15/20\n",
            "25/25 - 47s - loss: 0.1024 - accuracy: 0.9650 - val_loss: 0.0365 - val_accuracy: 0.9875\n",
            "Epoch 16/20\n",
            "25/25 - 50s - loss: 0.0903 - accuracy: 0.9750 - val_loss: 0.0808 - val_accuracy: 0.9563\n",
            "Epoch 17/20\n",
            "25/25 - 47s - loss: 0.0618 - accuracy: 0.9850 - val_loss: 0.0944 - val_accuracy: 0.9750\n",
            "Epoch 18/20\n",
            "25/25 - 47s - loss: 0.0562 - accuracy: 0.9825 - val_loss: 0.1371 - val_accuracy: 0.9812\n",
            "Epoch 19/20\n",
            "25/25 - 46s - loss: 0.0574 - accuracy: 0.9837 - val_loss: 0.0806 - val_accuracy: 0.9750\n",
            "Epoch 20/20\n",
            "25/25 - 46s - loss: 0.0552 - accuracy: 0.9812 - val_loss: 0.1122 - val_accuracy: 0.9688\n"
          ],
          "name": "stdout"
        }
      ]
    },
    {
      "cell_type": "markdown",
      "metadata": {
        "id": "NvAfmHLL3skj"
      },
      "source": [
        "## **Testing Model**"
      ]
    },
    {
      "cell_type": "code",
      "metadata": {
        "id": "fHeWd5vfo3Yk",
        "outputId": "3e3f54fd-ea69-4fdc-c18f-22e54500d523",
        "colab": {
          "resources": {
            "http://localhost:8080/nbextensions/google.colab/files.js": {
              "data": "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",
              "ok": true,
              "headers": [
                [
                  "content-type",
                  "application/javascript"
                ]
              ],
              "status": 200,
              "status_text": ""
            }
          },
          "base_uri": "https://localhost:8080/",
          "height": 361
        }
      },
      "source": [
        "uploaded = files.upload()\n",
        " \n",
        "for fn in uploaded.keys():\n",
        " \n",
        "  path = fn\n",
        "  img = image.load_img(path, target_size=(150,150))\n",
        "  imgplot = plt.imshow(img)\n",
        "  x = image.img_to_array(img)\n",
        "  x = np.expand_dims(x, axis=0)\n",
        " \n",
        "  images = np.vstack([x])\n",
        "  classes = model.predict(images, batch_size=10)\n",
        "  \n",
        "  print(fn)\n",
        "  if classes[0,0] != 0:\n",
        "    print('paper')\n",
        "  elif classes[0,1] != 0:\n",
        "    print('rock')\n",
        "  else:\n",
        "    print('scissors')"
      ],
      "execution_count": 31,
      "outputs": [
        {
          "output_type": "display_data",
          "data": {
            "text/html": [
              "\n",
              "     <input type=\"file\" id=\"files-0688329b-ab98-4e62-8af9-f65fe532eb15\" name=\"files[]\" multiple disabled\n",
              "        style=\"border:none\" />\n",
              "     <output id=\"result-0688329b-ab98-4e62-8af9-f65fe532eb15\">\n",
              "      Upload widget is only available when the cell has been executed in the\n",
              "      current browser session. Please rerun this cell to enable.\n",
              "      </output>\n",
              "      <script src=\"/nbextensions/google.colab/files.js\"></script> "
            ],
            "text/plain": [
              "<IPython.core.display.HTML object>"
            ]
          },
          "metadata": {
            "tags": []
          }
        },
        {
          "output_type": "stream",
          "text": [
            "Saving 1DxbXT3M2qiMjCmC.png to 1DxbXT3M2qiMjCmC.png\n",
            "1DxbXT3M2qiMjCmC.png\n",
            "rock\n"
          ],
          "name": "stdout"
        },
        {
          "output_type": "display_data",
          "data": {
            "image/png": "[encoded data removed]",
            "text/plain": [
              "<Figure size 432x288 with 1 Axes>"
            ]
          },
          "metadata": {
            "tags": [],
            "needs_background": "light"
          }
        }
      ]
    },
    {
      "cell_type": "code",
      "metadata": {
        "id": "VK4OOIgf0hEK"
      },
      "source": [
        ""
      ],
      "execution_count": null,
      "outputs": []
    }
  ]
}